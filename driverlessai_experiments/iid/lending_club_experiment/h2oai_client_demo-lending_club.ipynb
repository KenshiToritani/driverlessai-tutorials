{
 "cells": [
  {
   "cell_type": "markdown",
   "metadata": {},
   "source": [
    "\n",
    "## Driverless AI Python Client Tutorial with Lending Club Data\n",
    "\n",
    "\n",
    "**Lending Club** publishes loan data periodically for public use. The anonymized data has information on different loans issued, such as loan_id, loan_amount, what loan grade, credit score etc., and also a **loan_status** variable that indicates whether a loan was _Fully Paid_ or _Charged Off_ (written off because of default).\n",
    "\n",
    "In this tutorial, we use a python client to download the data from **Lending Club** website. The code then does some basic munging using Pandas, makes a connection to Driverless AI instance and then initiates a binary classification experiment using some inital experiment settings. In that process, we will also drop some target leakage columns, specify the target column, accuracy, time and interpretability settings, scorer etc.,\n",
    "\n",
    "Before running the experiment, the data is split to training and test. At the end of the experiment, the test predictions and other model artifacts are then downloaded along with the model score (we are using AUC in this case). \n",
    "\n",
    "\n",
    "The first thing to do is to get the Driverless AI python client by following the steps here (if you don't have it already!)\n",
    "\n",
    "http://docs.h2o.ai/driverless-ai/latest-stable/docs/userguide/python_install_client.html"
   ]
  },
  {
   "cell_type": "code",
   "execution_count": 1,
   "metadata": {},
   "outputs": [],
   "source": [
    "import h2oai_client\n",
    "import numpy as np\n",
    "import pandas as pd\n",
    "\n",
    "import requests\n",
    "import math\n",
    "from sklearn import model_selection\n",
    "from h2oai_client import Client, ModelParameters, InterpretParameters"
   ]
  },
  {
   "cell_type": "markdown",
   "metadata": {},
   "source": [
    "#### Connect to Driverless AI instance \n",
    "\n",
    "Replace the <driverless_ai_host> with the correct IP address of the driverless AI instance. Make sure there is no firewall blocking the 12345 port. The username and password should be the same as what you'd use to login to Driverless AI instance.\n"
   ]
  },
  {
   "cell_type": "code",
   "execution_count": 2,
   "metadata": {},
   "outputs": [],
   "source": [
    "# Let's connect to the Driverless AI instance\n",
    "\n",
    "address = 'http://<driverless_ai_host>:12345'\n",
    "username = '<username>'  \n",
    "password = '<password>'\n",
    "h2oai = Client(address = address, username = username, password = password)\n",
    "\n",
    "# make sure to use the same user name and password when signing in through the GUI"
   ]
  },
  {
   "cell_type": "markdown",
   "metadata": {},
   "source": [
    "#### Download 2007-2011 Loan Data from Lending Club Website\n",
    "\n",
    "The url provided in the wget command is where the 2007-2011 loan data is. You can also loan data over different periods from https://www.lendingclub.com/info/download-data.action\n",
    "\n",
    "To look at the data dictionary of the different columns, click here: \n",
    "https://resources.lendingclub.com/LCDataDictionary.xlsx"
   ]
  },
  {
   "cell_type": "code",
   "execution_count": 3,
   "metadata": {},
   "outputs": [
    {
     "name": "stdout",
     "output_type": "stream",
     "text": [
      "--2019-03-08 02:04:22--  https://resources.lendingclub.com/LoanStats3a.csv.zip\n",
      "Resolving resources.lendingclub.com (resources.lendingclub.com)... 64.48.1.20\n",
      "Connecting to resources.lendingclub.com (resources.lendingclub.com)|64.48.1.20|:443... connected.\n",
      "HTTP request sent, awaiting response... 200 OK\n",
      "Length: unspecified [application/zip]\n",
      "Saving to: ‘LoanStats3a.csv.zip’\n",
      "\n",
      "    [                   <=>                 ] 9,610,863    950KB/s   in 11s    \n",
      "\n",
      "2019-03-08 02:04:34 (816 KB/s) - ‘LoanStats3a.csv.zip’ saved [9610863]\n",
      "\n"
     ]
    }
   ],
   "source": [
    "!wget \"https://resources.lendingclub.com/LoanStats3a.csv.zip\""
   ]
  },
  {
   "cell_type": "markdown",
   "metadata": {},
   "source": [
    "#### Munging the data in Pandas\n",
    "\n",
    "We first read the data into a Pandas data frame. We skip reading the very first row as it has some non-header information. The target column **loan_status** has really 4 unique values, but as you can see below, it makes sense to fold them to 2 unique possibilities, **Fully Paid** and **Charged Off**, that makes it into a binary classification problem."
   ]
  },
  {
   "cell_type": "code",
   "execution_count": 4,
   "metadata": {},
   "outputs": [],
   "source": [
    "# Very first row has non-header data and hence skipping it. Read to a data frame\n",
    "\n",
    "lc = pd.read_csv(\"LoanStats3a.csv.zip\", low_memory=False, skiprows=1) \n"
   ]
  },
  {
   "cell_type": "code",
   "execution_count": 5,
   "metadata": {},
   "outputs": [
    {
     "data": {
      "text/plain": [
       "array(['Fully Paid', 'Charged Off', nan], dtype=object)"
      ]
     },
     "execution_count": 5,
     "metadata": {},
     "output_type": "execute_result"
    }
   ],
   "source": [
    "# Normalize target column values for a simple binary classification problem\n",
    "\n",
    "lc['loan_status'] = np.where(lc['loan_status'] == 'Does not meet the credit policy. Status:Fully Paid', 'Fully Paid', lc['loan_status'])\n",
    "lc['loan_status'] = np.where(lc['loan_status'] == 'Does not meet the credit policy. Status:Charged Off', 'Charged Off', lc['loan_status'])\n",
    "\n",
    "# Let's look at the unique values for the target col. Yes - it's a binary classification problem\n",
    "lc.loan_status.unique()"
   ]
  },
  {
   "cell_type": "markdown",
   "metadata": {},
   "source": [
    "#### Split to Train and Test - 80%/20%  and write it to two CSV files"
   ]
  },
  {
   "cell_type": "code",
   "execution_count": 20,
   "metadata": {},
   "outputs": [
    {
     "data": {
      "text/html": [
       "<div>\n",
       "<style scoped>\n",
       "    .dataframe tbody tr th:only-of-type {\n",
       "        vertical-align: middle;\n",
       "    }\n",
       "\n",
       "    .dataframe tbody tr th {\n",
       "        vertical-align: top;\n",
       "    }\n",
       "\n",
       "    .dataframe thead th {\n",
       "        text-align: right;\n",
       "    }\n",
       "</style>\n",
       "<table border=\"1\" class=\"dataframe\">\n",
       "  <thead>\n",
       "    <tr style=\"text-align: right;\">\n",
       "      <th></th>\n",
       "      <th>id</th>\n",
       "      <th>member_id</th>\n",
       "      <th>loan_amnt</th>\n",
       "      <th>funded_amnt</th>\n",
       "      <th>funded_amnt_inv</th>\n",
       "      <th>term</th>\n",
       "      <th>int_rate</th>\n",
       "      <th>installment</th>\n",
       "      <th>grade</th>\n",
       "      <th>sub_grade</th>\n",
       "      <th>...</th>\n",
       "      <th>hardship_payoff_balance_amount</th>\n",
       "      <th>hardship_last_payment_amount</th>\n",
       "      <th>disbursement_method</th>\n",
       "      <th>debt_settlement_flag</th>\n",
       "      <th>debt_settlement_flag_date</th>\n",
       "      <th>settlement_status</th>\n",
       "      <th>settlement_date</th>\n",
       "      <th>settlement_amount</th>\n",
       "      <th>settlement_percentage</th>\n",
       "      <th>settlement_term</th>\n",
       "    </tr>\n",
       "  </thead>\n",
       "  <tbody>\n",
       "    <tr>\n",
       "      <th>42362</th>\n",
       "      <td>NaN</td>\n",
       "      <td>NaN</td>\n",
       "      <td>9950.0</td>\n",
       "      <td>9950.0</td>\n",
       "      <td>2175.0</td>\n",
       "      <td>36 months</td>\n",
       "      <td>12.80%</td>\n",
       "      <td>334.30</td>\n",
       "      <td>D</td>\n",
       "      <td>D4</td>\n",
       "      <td>...</td>\n",
       "      <td>NaN</td>\n",
       "      <td>NaN</td>\n",
       "      <td>Cash</td>\n",
       "      <td>N</td>\n",
       "      <td>NaN</td>\n",
       "      <td>NaN</td>\n",
       "      <td>NaN</td>\n",
       "      <td>NaN</td>\n",
       "      <td>NaN</td>\n",
       "      <td>NaN</td>\n",
       "    </tr>\n",
       "    <tr>\n",
       "      <th>2161</th>\n",
       "      <td>NaN</td>\n",
       "      <td>NaN</td>\n",
       "      <td>8400.0</td>\n",
       "      <td>8400.0</td>\n",
       "      <td>8125.0</td>\n",
       "      <td>60 months</td>\n",
       "      <td>8.90%</td>\n",
       "      <td>173.97</td>\n",
       "      <td>A</td>\n",
       "      <td>A5</td>\n",
       "      <td>...</td>\n",
       "      <td>NaN</td>\n",
       "      <td>NaN</td>\n",
       "      <td>Cash</td>\n",
       "      <td>N</td>\n",
       "      <td>NaN</td>\n",
       "      <td>NaN</td>\n",
       "      <td>NaN</td>\n",
       "      <td>NaN</td>\n",
       "      <td>NaN</td>\n",
       "      <td>NaN</td>\n",
       "    </tr>\n",
       "    <tr>\n",
       "      <th>4890</th>\n",
       "      <td>NaN</td>\n",
       "      <td>NaN</td>\n",
       "      <td>12800.0</td>\n",
       "      <td>12800.0</td>\n",
       "      <td>12800.0</td>\n",
       "      <td>60 months</td>\n",
       "      <td>23.52%</td>\n",
       "      <td>364.68</td>\n",
       "      <td>G</td>\n",
       "      <td>G3</td>\n",
       "      <td>...</td>\n",
       "      <td>NaN</td>\n",
       "      <td>NaN</td>\n",
       "      <td>Cash</td>\n",
       "      <td>N</td>\n",
       "      <td>NaN</td>\n",
       "      <td>NaN</td>\n",
       "      <td>NaN</td>\n",
       "      <td>NaN</td>\n",
       "      <td>NaN</td>\n",
       "      <td>NaN</td>\n",
       "    </tr>\n",
       "    <tr>\n",
       "      <th>32816</th>\n",
       "      <td>NaN</td>\n",
       "      <td>NaN</td>\n",
       "      <td>5000.0</td>\n",
       "      <td>5000.0</td>\n",
       "      <td>5000.0</td>\n",
       "      <td>36 months</td>\n",
       "      <td>13.92%</td>\n",
       "      <td>170.69</td>\n",
       "      <td>C</td>\n",
       "      <td>C4</td>\n",
       "      <td>...</td>\n",
       "      <td>NaN</td>\n",
       "      <td>NaN</td>\n",
       "      <td>Cash</td>\n",
       "      <td>N</td>\n",
       "      <td>NaN</td>\n",
       "      <td>NaN</td>\n",
       "      <td>NaN</td>\n",
       "      <td>NaN</td>\n",
       "      <td>NaN</td>\n",
       "      <td>NaN</td>\n",
       "    </tr>\n",
       "    <tr>\n",
       "      <th>3925</th>\n",
       "      <td>NaN</td>\n",
       "      <td>NaN</td>\n",
       "      <td>35000.0</td>\n",
       "      <td>35000.0</td>\n",
       "      <td>34750.0</td>\n",
       "      <td>60 months</td>\n",
       "      <td>19.03%</td>\n",
       "      <td>908.50</td>\n",
       "      <td>E</td>\n",
       "      <td>E2</td>\n",
       "      <td>...</td>\n",
       "      <td>NaN</td>\n",
       "      <td>NaN</td>\n",
       "      <td>Cash</td>\n",
       "      <td>N</td>\n",
       "      <td>NaN</td>\n",
       "      <td>NaN</td>\n",
       "      <td>NaN</td>\n",
       "      <td>NaN</td>\n",
       "      <td>NaN</td>\n",
       "      <td>NaN</td>\n",
       "    </tr>\n",
       "  </tbody>\n",
       "</table>\n",
       "<p>5 rows × 145 columns</p>\n",
       "</div>"
      ],
      "text/plain": [
       "        id  member_id  loan_amnt  funded_amnt  funded_amnt_inv        term  \\\n",
       "42362  NaN        NaN     9950.0       9950.0           2175.0   36 months   \n",
       "2161   NaN        NaN     8400.0       8400.0           8125.0   60 months   \n",
       "4890   NaN        NaN    12800.0      12800.0          12800.0   60 months   \n",
       "32816  NaN        NaN     5000.0       5000.0           5000.0   36 months   \n",
       "3925   NaN        NaN    35000.0      35000.0          34750.0   60 months   \n",
       "\n",
       "      int_rate  installment grade sub_grade       ...        \\\n",
       "42362   12.80%       334.30     D        D4       ...         \n",
       "2161     8.90%       173.97     A        A5       ...         \n",
       "4890    23.52%       364.68     G        G3       ...         \n",
       "32816   13.92%       170.69     C        C4       ...         \n",
       "3925    19.03%       908.50     E        E2       ...         \n",
       "\n",
       "      hardship_payoff_balance_amount hardship_last_payment_amount  \\\n",
       "42362                            NaN                          NaN   \n",
       "2161                             NaN                          NaN   \n",
       "4890                             NaN                          NaN   \n",
       "32816                            NaN                          NaN   \n",
       "3925                             NaN                          NaN   \n",
       "\n",
       "      disbursement_method  debt_settlement_flag debt_settlement_flag_date  \\\n",
       "42362                Cash                     N                       NaN   \n",
       "2161                 Cash                     N                       NaN   \n",
       "4890                 Cash                     N                       NaN   \n",
       "32816                Cash                     N                       NaN   \n",
       "3925                 Cash                     N                       NaN   \n",
       "\n",
       "      settlement_status settlement_date settlement_amount  \\\n",
       "42362               NaN             NaN               NaN   \n",
       "2161                NaN             NaN               NaN   \n",
       "4890                NaN             NaN               NaN   \n",
       "32816               NaN             NaN               NaN   \n",
       "3925                NaN             NaN               NaN   \n",
       "\n",
       "       settlement_percentage settlement_term  \n",
       "42362                    NaN             NaN  \n",
       "2161                     NaN             NaN  \n",
       "4890                     NaN             NaN  \n",
       "32816                    NaN             NaN  \n",
       "3925                     NaN             NaN  \n",
       "\n",
       "[5 rows x 145 columns]"
      ]
     },
     "execution_count": 20,
     "metadata": {},
     "output_type": "execute_result"
    }
   ],
   "source": [
    "import csv\n",
    "train_lc, test_lc = model_selection.train_test_split(lc, test_size=0.2)\n",
    "train_lc.to_csv(\"/tmp/train_lc.csv\", index=False)\n",
    "test_lc.to_csv(\"/tmp/test_lc.csv\", index=False)\n",
    "\n",
    "# View the top few rows with header\n",
    "train_lc.head()"
   ]
  },
  {
   "cell_type": "markdown",
   "metadata": {},
   "source": [
    "#### Upload the Train and Test data to Driverless AI"
   ]
  },
  {
   "cell_type": "code",
   "execution_count": 22,
   "metadata": {},
   "outputs": [],
   "source": [
    "train_path = \"/tmp/train_lc.csv\"\n",
    "test_path = \"/tmp/test_lc.csv\"\n",
    "\n",
    "train = h2oai.create_dataset_sync(train_path)\n",
    "test = h2oai.create_dataset_sync(test_path)"
   ]
  },
  {
   "cell_type": "code",
   "execution_count": 23,
   "metadata": {},
   "outputs": [
    {
     "name": "stdout",
     "output_type": "stream",
     "text": [
      "Train Dataset:  145 x 34030\n",
      "Test Dataset:  145 x 8508\n"
     ]
    }
   ],
   "source": [
    "# Check the shape of the data\n",
    "\n",
    "print('Train Dataset: ', len(train.columns), 'x', train.row_count)\n",
    "print('Test Dataset: ', len(test.columns), 'x', test.row_count)"
   ]
  },
  {
   "cell_type": "code",
   "execution_count": 24,
   "metadata": {},
   "outputs": [
    {
     "data": {
      "text/plain": [
       "['id',\n",
       " 'member_id',\n",
       " 'loan_amnt',\n",
       " 'funded_amnt',\n",
       " 'funded_amnt_inv',\n",
       " 'term',\n",
       " 'int_rate',\n",
       " 'installment',\n",
       " 'grade',\n",
       " 'sub_grade',\n",
       " 'emp_title',\n",
       " 'emp_length',\n",
       " 'home_ownership',\n",
       " 'annual_inc',\n",
       " 'verification_status',\n",
       " 'issue_d',\n",
       " 'loan_status',\n",
       " 'pymnt_plan',\n",
       " 'url',\n",
       " 'desc',\n",
       " 'purpose',\n",
       " 'title',\n",
       " 'zip_code',\n",
       " 'addr_state',\n",
       " 'dti',\n",
       " 'delinq_2yrs',\n",
       " 'earliest_cr_line',\n",
       " 'inq_last_6mths',\n",
       " 'mths_since_last_delinq',\n",
       " 'mths_since_last_record',\n",
       " 'open_acc',\n",
       " 'pub_rec',\n",
       " 'revol_bal',\n",
       " 'revol_util',\n",
       " 'total_acc',\n",
       " 'initial_list_status',\n",
       " 'out_prncp',\n",
       " 'out_prncp_inv',\n",
       " 'total_pymnt',\n",
       " 'total_pymnt_inv',\n",
       " 'total_rec_prncp',\n",
       " 'total_rec_int',\n",
       " 'total_rec_late_fee',\n",
       " 'recoveries',\n",
       " 'collection_recovery_fee',\n",
       " 'last_pymnt_d',\n",
       " 'last_pymnt_amnt',\n",
       " 'next_pymnt_d',\n",
       " 'last_credit_pull_d',\n",
       " 'collections_12_mths_ex_med',\n",
       " 'mths_since_last_major_derog',\n",
       " 'policy_code',\n",
       " 'application_type',\n",
       " 'annual_inc_joint',\n",
       " 'dti_joint',\n",
       " 'verification_status_joint',\n",
       " 'acc_now_delinq',\n",
       " 'tot_coll_amt',\n",
       " 'tot_cur_bal',\n",
       " 'open_acc_6m',\n",
       " 'open_act_il',\n",
       " 'open_il_12m',\n",
       " 'open_il_24m',\n",
       " 'mths_since_rcnt_il',\n",
       " 'total_bal_il',\n",
       " 'il_util',\n",
       " 'open_rv_12m',\n",
       " 'open_rv_24m',\n",
       " 'max_bal_bc',\n",
       " 'all_util',\n",
       " 'total_rev_hi_lim',\n",
       " 'inq_fi',\n",
       " 'total_cu_tl',\n",
       " 'inq_last_12m',\n",
       " 'acc_open_past_24mths',\n",
       " 'avg_cur_bal',\n",
       " 'bc_open_to_buy',\n",
       " 'bc_util',\n",
       " 'chargeoff_within_12_mths',\n",
       " 'delinq_amnt',\n",
       " 'mo_sin_old_il_acct',\n",
       " 'mo_sin_old_rev_tl_op',\n",
       " 'mo_sin_rcnt_rev_tl_op',\n",
       " 'mo_sin_rcnt_tl',\n",
       " 'mort_acc',\n",
       " 'mths_since_recent_bc',\n",
       " 'mths_since_recent_bc_dlq',\n",
       " 'mths_since_recent_inq',\n",
       " 'mths_since_recent_revol_delinq',\n",
       " 'num_accts_ever_120_pd',\n",
       " 'num_actv_bc_tl',\n",
       " 'num_actv_rev_tl',\n",
       " 'num_bc_sats',\n",
       " 'num_bc_tl',\n",
       " 'num_il_tl',\n",
       " 'num_op_rev_tl',\n",
       " 'num_rev_accts',\n",
       " 'num_rev_tl_bal_gt_0',\n",
       " 'num_sats',\n",
       " 'num_tl_120dpd_2m',\n",
       " 'num_tl_30dpd',\n",
       " 'num_tl_90g_dpd_24m',\n",
       " 'num_tl_op_past_12m',\n",
       " 'pct_tl_nvr_dlq',\n",
       " 'percent_bc_gt_75',\n",
       " 'pub_rec_bankruptcies',\n",
       " 'tax_liens',\n",
       " 'tot_hi_cred_lim',\n",
       " 'total_bal_ex_mort',\n",
       " 'total_bc_limit',\n",
       " 'total_il_high_credit_limit',\n",
       " 'revol_bal_joint',\n",
       " 'sec_app_earliest_cr_line',\n",
       " 'sec_app_inq_last_6mths',\n",
       " 'sec_app_mort_acc',\n",
       " 'sec_app_open_acc',\n",
       " 'sec_app_revol_util',\n",
       " 'sec_app_open_act_il',\n",
       " 'sec_app_num_rev_accts',\n",
       " 'sec_app_chargeoff_within_12_mths',\n",
       " 'sec_app_collections_12_mths_ex_med',\n",
       " 'sec_app_mths_since_last_major_derog',\n",
       " 'hardship_flag',\n",
       " 'hardship_type',\n",
       " 'hardship_reason',\n",
       " 'hardship_status',\n",
       " 'deferral_term',\n",
       " 'hardship_amount',\n",
       " 'hardship_start_date',\n",
       " 'hardship_end_date',\n",
       " 'payment_plan_start_date',\n",
       " 'hardship_length',\n",
       " 'hardship_dpd',\n",
       " 'hardship_loan_status',\n",
       " 'orig_projected_additional_accrued_interest',\n",
       " 'hardship_payoff_balance_amount',\n",
       " 'hardship_last_payment_amount',\n",
       " 'disbursement_method',\n",
       " 'debt_settlement_flag',\n",
       " 'debt_settlement_flag_date',\n",
       " 'settlement_status',\n",
       " 'settlement_date',\n",
       " 'settlement_amount',\n",
       " 'settlement_percentage',\n",
       " 'settlement_term']"
      ]
     },
     "execution_count": 24,
     "metadata": {},
     "output_type": "execute_result"
    }
   ],
   "source": [
    "# List of training columns (should be same for test data also) for sanity\n",
    "[c.name for c in train.columns]"
   ]
  },
  {
   "cell_type": "markdown",
   "metadata": {},
   "source": [
    "#### Run an Experiment Preview \n",
    "Set the target col to **loan_status**, dropped cols to the list of target leakage cols + accuracy, time and interpretability settings of 1,1 and 8. Let's set the scorer to AUC etc., The resulting output will be the execution plan for the experiment, including algorithm selections, cross validation strategy, feature transformations that will be used as decided by the recipe."
   ]
  },
  {
   "cell_type": "code",
   "execution_count": 29,
   "metadata": {
    "scrolled": true
   },
   "outputs": [
    {
     "data": {
      "text/plain": [
       "['ACCURACY [1/10]:',\n",
       " '- Training data size: *34,030 rows, 42 cols*',\n",
       " '- Feature evolution: *[LightGBM, XGBoost, GLM]*, *1/3 validation split*',\n",
       " '- Final pipeline: *[LightGBM, XGBoost, GLM]*',\n",
       " '',\n",
       " 'TIME [1/10]:',\n",
       " '- Feature evolution: *2 individuals*, up to *3 iterations*',\n",
       " '- Early stopping: disabled',\n",
       " '',\n",
       " 'INTERPRETABILITY [8/10]:',\n",
       " '- Feature pre-pruning strategy: FS',\n",
       " '- XGBoost Monotonicity constraints: enabled',\n",
       " '- Feature engineering search space (where applicable): [Date, FrequencyEncoding, Identity, Interactions, IsHoliday, NumEncoding, OneHotEncoding, TargetEncoding, Text, WeightOfEvidence]',\n",
       " '',\n",
       " '[LightGBM, XGBoost, GLM] models to train:',\n",
       " '- Model and feature tuning: *2*',\n",
       " '- Feature evolution: *3*',\n",
       " '- Final pipeline: *1*',\n",
       " '',\n",
       " 'Estimated runtime: *minutes*']"
      ]
     },
     "execution_count": 29,
     "metadata": {},
     "output_type": "execute_result"
    }
   ],
   "source": [
    "target='loan_status'\n",
    "exp_preview = h2oai.get_experiment_preview_sync(dataset_key= train.key, \n",
    "                                                validset_key='', \n",
    "                                                classification=True, \n",
    "                                                # All dropped cols are target leakage cols\n",
    "                                                dropped_cols = ['inq_last_6mths', \n",
    "                                                                'out_prncp', \n",
    "                                                                'out_prncp_inv', \n",
    "                                                                'total_pymnt', \n",
    "                                                                'total_pymnt_inv', \n",
    "                                                                'total_rec_prncp', \n",
    "                                                                'total_rec_int', \n",
    "                                                                'total_rec_late_fee', \n",
    "                                                                'recoveries', \n",
    "                                                                'collection_recovery_fee', \n",
    "                                                                'last_pymnt_d', \n",
    "                                                                'last_pymnt_amnt', \n",
    "                                                                'next_pymnt_d', \n",
    "                                                                'last_credit_pull_d'] , \n",
    "                                                target_col=target, \n",
    "                                                is_time_series = False, \n",
    "                                                enable_gpus = True, \n",
    "                                                accuracy = 1, time = 1, interpretability = 8, \n",
    "                                                config_overrides = None)\n",
    "exp_preview"
   ]
  },
  {
   "cell_type": "markdown",
   "metadata": {},
   "source": [
    "#### Run the Experiment \n",
    "Let's set the accuracy, time and interpretability settings of 1,1 and 8. Also drop the target leakage columns and set the scorer to AUC and make it a classification problem. We are also passing on the training and test data references to the python API which we uploaded a few steps before. \n",
    "\n",
    "Feel free to increase the the settings with higher accuracy and time. Lowering the interpretability will increase feature engineering efforts to get a better model!"
   ]
  },
  {
   "cell_type": "code",
   "execution_count": 30,
   "metadata": {},
   "outputs": [],
   "source": [
    "\n",
    "experiment = h2oai.start_experiment_sync(dataset_key=train.key,\n",
    "                                         testset_key = test.key,\n",
    "                                         target_col=target,\n",
    "                                         is_classification=True,\n",
    "                                         accuracy=1,\n",
    "                                         time=1,\n",
    "                                         interpretability=8,\n",
    "                                         scorer=\"AUC\",\n",
    "                                         enable_gpus=True,\n",
    "                                         seed=1234,\n",
    "                                         # drop the target leakage cols\n",
    "                                         cols_to_drop=['inq_last_6mths', \n",
    "                                                        'out_prncp', \n",
    "                                                        'out_prncp_inv', \n",
    "                                                        'total_pymnt', \n",
    "                                                        'total_pymnt_inv', \n",
    "                                                        'total_rec_prncp', \n",
    "                                                        'total_rec_int', \n",
    "                                                        'total_rec_late_fee', \n",
    "                                                        'recoveries', \n",
    "                                                        'collection_recovery_fee', \n",
    "                                                        'last_pymnt_d', \n",
    "                                                        'last_pymnt_amnt', \n",
    "                                                        'next_pymnt_d', \n",
    "                                                        'last_credit_pull_d'\n",
    "                                                        ]\n",
    "                                        )"
   ]
  },
  {
   "cell_type": "markdown",
   "metadata": {},
   "source": [
    "#### Print Validation (from Training/Cross Validation) and Test Scores"
   ]
  },
  {
   "cell_type": "code",
   "execution_count": 31,
   "metadata": {},
   "outputs": [
    {
     "name": "stdout",
     "output_type": "stream",
     "text": [
      "Final Model Score on Validation Data: 0.702\n",
      "Final Model Score on Test Data: 0.707\n"
     ]
    }
   ],
   "source": [
    "print(\"Final Model Score on Validation Data: \" + str(round(experiment.valid_score, 3)))\n",
    "print(\"Final Model Score on Test Data: \" + str(round(experiment.test_score, 3)))"
   ]
  },
  {
   "cell_type": "markdown",
   "metadata": {},
   "source": [
    "#### Visualize model score evolving over iterations"
   ]
  },
  {
   "cell_type": "code",
   "execution_count": 32,
   "metadata": {},
   "outputs": [
    {
     "data": {
      "image/png": "[encoded data removed]",
      "text/plain": [
       "<Figure size 432x288 with 1 Axes>"
      ]
     },
     "metadata": {},
     "output_type": "display_data"
    }
   ],
   "source": [
    "import matplotlib.pyplot as plt\n",
    "%matplotlib inline\n",
    "\n",
    "# Add scores from experiment iterations\n",
    "iteration_data = h2oai.list_model_iteration_data(experiment.key, 0, len(experiment.iteration_data))\n",
    "iterations = list(map(lambda iteration: iteration.iteration, iteration_data))\n",
    "scores_mean = list(map(lambda iteration: iteration.score_mean, iteration_data))\n",
    "scores_sd = list(map(lambda iteration: iteration.score_sd, iteration_data))\n",
    "\n",
    "# Add score from final ensemble\n",
    "iterations = iterations + [max(iterations) + 1]\n",
    "scores_mean = scores_mean + [experiment.valid_score]\n",
    "scores_sd = scores_sd + [experiment.valid_score_sd]\n",
    "\n",
    "plt.figure()\n",
    "plt.errorbar(iterations, scores_mean, yerr=scores_sd, color = \"y\", \n",
    "             ecolor='yellow', fmt = '--o', elinewidth = 4, alpha = 0.5)\n",
    "plt.xlabel(\"Iteration\")\n",
    "plt.ylabel(\"AUC\")\n",
    "plt.ylim([0.6, .9])\n",
    "plt.show();"
   ]
  },
  {
   "cell_type": "markdown",
   "metadata": {},
   "source": [
    "#### Download the test predictions ..."
   ]
  },
  {
   "cell_type": "code",
   "execution_count": 33,
   "metadata": {},
   "outputs": [
    {
     "data": {
      "text/plain": [
       "'./test_preds.csv'"
      ]
     },
     "execution_count": 33,
     "metadata": {},
     "output_type": "execute_result"
    }
   ],
   "source": [
    "h2oai.download(src_path=experiment.test_predictions_path, dest_dir=\".\")"
   ]
  },
  {
   "cell_type": "code",
   "execution_count": 34,
   "metadata": {},
   "outputs": [
    {
     "data": {
      "text/html": [
       "<div>\n",
       "<style scoped>\n",
       "    .dataframe tbody tr th:only-of-type {\n",
       "        vertical-align: middle;\n",
       "    }\n",
       "\n",
       "    .dataframe tbody tr th {\n",
       "        vertical-align: top;\n",
       "    }\n",
       "\n",
       "    .dataframe thead th {\n",
       "        text-align: right;\n",
       "    }\n",
       "</style>\n",
       "<table border=\"1\" class=\"dataframe\">\n",
       "  <thead>\n",
       "    <tr style=\"text-align: right;\">\n",
       "      <th></th>\n",
       "      <th>loan_status.Charged Off</th>\n",
       "      <th>loan_status.Fully Paid</th>\n",
       "    </tr>\n",
       "  </thead>\n",
       "  <tbody>\n",
       "    <tr>\n",
       "      <th>0</th>\n",
       "      <td>0.127741</td>\n",
       "      <td>0.872259</td>\n",
       "    </tr>\n",
       "    <tr>\n",
       "      <th>1</th>\n",
       "      <td>0.209393</td>\n",
       "      <td>0.790607</td>\n",
       "    </tr>\n",
       "    <tr>\n",
       "      <th>2</th>\n",
       "      <td>0.067872</td>\n",
       "      <td>0.932128</td>\n",
       "    </tr>\n",
       "    <tr>\n",
       "      <th>3</th>\n",
       "      <td>0.090275</td>\n",
       "      <td>0.909725</td>\n",
       "    </tr>\n",
       "    <tr>\n",
       "      <th>4</th>\n",
       "      <td>0.141584</td>\n",
       "      <td>0.858417</td>\n",
       "    </tr>\n",
       "  </tbody>\n",
       "</table>\n",
       "</div>"
      ],
      "text/plain": [
       "   loan_status.Charged Off  loan_status.Fully Paid\n",
       "0                 0.127741                0.872259\n",
       "1                 0.209393                0.790607\n",
       "2                 0.067872                0.932128\n",
       "3                 0.090275                0.909725\n",
       "4                 0.141584                0.858417"
      ]
     },
     "execution_count": 34,
     "metadata": {},
     "output_type": "execute_result"
    }
   ],
   "source": [
    "test_preds = pd.read_csv(\"./test_preds.csv\")\n",
    "test_preds.head()"
   ]
  },
  {
   "cell_type": "markdown",
   "metadata": {
    "collapsed": true
   },
   "source": [
    "##### Notebook Created by: Karthik Guruswamy, Principal Solutions Architect/Customer Data Scientist, H2O.ai"
   ]
  }
 ],
 "metadata": {
  "kernelspec": {
   "display_name": "Python 3",
   "language": "python",
   "name": "python3"
  },
  "language_info": {
   "codemirror_mode": {
    "name": "ipython",
    "version": 3
   },
   "file_extension": ".py",
   "mimetype": "text/x-python",
   "name": "python",
   "nbconvert_exporter": "python",
   "pygments_lexer": "ipython3",
   "version": "3.6.4"
  }
 },
 "nbformat": 4,
 "nbformat_minor": 2
}
